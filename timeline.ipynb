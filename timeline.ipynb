{
 "cells": [
  {
   "cell_type": "code",
   "execution_count": 1,
   "metadata": {},
   "outputs": [],
   "source": [
    "%matplotlib inline"
   ]
  },
  {
   "cell_type": "markdown",
   "metadata": {},
   "source": [
    "\n",
    "===============================================\n",
    "Creating a timeline with lines, dates, and text\n",
    "===============================================\n",
    "\n",
    "How to create a simple timeline using Matplotlib release dates.\n",
    "\n",
    "Timelines can be created with a collection of dates and text. In this example,\n",
    "we show how to create a simple timeline using the dates for recent releases\n",
    "of Matplotlib. First, we'll pull the data from GitHub.\n"
   ]
  },
  {
   "cell_type": "code",
   "execution_count": 7,
   "metadata": {},
   "outputs": [],
   "source": [
    "import matplotlib.pyplot as plt\n",
    "import numpy as np\n",
    "import matplotlib.dates as mdates\n",
    "from datetime import datetime\n",
    "\n",
    "\n",
    "# In case the above fails, e.g. because of missing internet connection\n",
    "# use the following lists as fallback.\n",
    "names = ['World Chess Champion defeated. Brute Force AI',\n",
    "         'IBM Watson beats Jeopardy gameshow champion. Machine Learning AI',\n",
    "         'World Go Champion defeated. Deep Learning AI']\n",
    "\n",
    "dates = ['1997-05-11', '2011-01-14','2016-03-15']\n",
    "\n",
    "# Convert date strings (e.g. 2014-10-18) to datetime\n",
    "dates = [datetime.strptime(d, \"%Y-%m-%d\") for d in dates]"
   ]
  },
  {
   "cell_type": "markdown",
   "metadata": {},
   "source": [
    "Next, we'll create a stem plot with some variation in levels as to\n",
    "distinguish even close-by events. We add markers on the baseline for visual\n",
    "emphasis on the one-dimensional nature of the time line.\n",
    "\n",
    "For each event, we add a text label via `~.Axes.annotate`, which is offset\n",
    "in units of points from the tip of the event line.\n",
    "\n",
    "Note that Matplotlib will automatically plot datetime inputs.\n",
    "\n"
   ]
  },
  {
   "cell_type": "code",
   "execution_count": 8,
   "metadata": {},
   "outputs": [
    {
     "data": {
      "image/png": "[encoded data removed]",
      "text/plain": [
       "<Figure size 633.6x288 with 1 Axes>"
      ]
     },
     "metadata": {
      "needs_background": "light"
     },
     "output_type": "display_data"
    }
   ],
   "source": [
    "# Choose some nice levels\n",
    "levels = np.tile([-5, 5, -3, 3, -1, 1],\n",
    "                 int(np.ceil(len(dates)/6)))[:len(dates)]\n",
    "\n",
    "# Create figure and plot a stem plot with the date\n",
    "fig, ax = plt.subplots(figsize=(8.8, 4), constrained_layout=True)\n",
    "ax.set(title=\"Recent AI Milestones\")\n",
    "\n",
    "ax.vlines(dates, 0, levels, color=\"tab:red\")  # The vertical stems.\n",
    "ax.plot(dates, np.zeros_like(dates), \"-o\",\n",
    "        color=\"k\", markerfacecolor=\"w\")  # Baseline and markers on it.\n",
    "\n",
    "# annotate lines\n",
    "for d, l, r in zip(dates, levels, names):\n",
    "    ax.annotate(r, xy=(d, l),\n",
    "                xytext=(-3, np.sign(l)*3), textcoords=\"offset points\",\n",
    "                horizontalalignment=\"right\",\n",
    "                verticalalignment=\"bottom\" if l > 0 else \"top\")\n",
    "\n",
    "# format xaxis with 4 month intervals\n",
    "ax.xaxis.set_major_locator(mdates.MonthLocator(interval=12))\n",
    "ax.xaxis.set_major_formatter(mdates.DateFormatter(\"%Y\"))\n",
    "plt.setp(ax.get_xticklabels(), rotation=30, ha=\"right\")\n",
    "\n",
    "# remove y axis and spines\n",
    "ax.yaxis.set_visible(False)\n",
    "ax.spines[\"left\"].set_visible(False)\n",
    "ax.spines[\"top\"].set_visible(False)\n",
    "ax.spines[\"right\"].set_visible(False)\n",
    "\n",
    "ax.margins(y=0.1)\n",
    "plt.savefig('timeline.svg', format='svg', bbox_inches=\"tight\")\n",
    "plt.show()"
   ]
  },
  {
   "cell_type": "markdown",
   "metadata": {},
   "source": [
    ".. admonition:: References\n",
    "\n",
    "   The use of the following functions, methods, classes and modules is shown\n",
    "   in this example:\n",
    "\n",
    "   - `matplotlib.axes.Axes.annotate`\n",
    "   - `matplotlib.axes.Axes.vlines`\n",
    "   - `matplotlib.axis.Axis.set_major_locator`\n",
    "   - `matplotlib.axis.Axis.set_major_formatter`\n",
    "   - `matplotlib.dates.MonthLocator`\n",
    "   - `matplotlib.dates.DateFormatter`\n",
    "\n"
   ]
  }
 ],
 "metadata": {
  "kernelspec": {
   "display_name": "Python 3",
   "language": "python",
   "name": "python3"
  },
  "language_info": {
   "codemirror_mode": {
    "name": "ipython",
    "version": 3
   },
   "file_extension": ".py",
   "mimetype": "text/x-python",
   "name": "python",
   "nbconvert_exporter": "python",
   "pygments_lexer": "ipython3",
   "version": "3.8.8"
  }
 },
 "nbformat": 4,
 "nbformat_minor": 1
}
